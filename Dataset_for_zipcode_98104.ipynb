{
 "cells": [
  {
   "cell_type": "code",
   "execution_count": 2,
   "metadata": {},
   "outputs": [
    {
     "name": "stdout",
     "output_type": "stream",
     "text": [
      "   Year  Population\n",
      "0  2008        8217\n",
      "1  2009        8412\n",
      "2  2010        9041\n",
      "3  2011        9396\n",
      "4  2012        9900\n",
      "5  2013        8840\n",
      "6  2014        8950\n",
      "7  2015        8990\n"
     ]
    }
   ],
   "source": [
    "#population data gathered for zip code 98104\n",
    "#using website:https://www.unitedstateszipcodes.org/98104/\n",
    "from pandas import DataFrame\n",
    "import matplotlib.pyplot as plt\n",
    "\n",
    "data_4 = {'Year': [2008,2009,2010,2011,2012,2013,2014,2015],\n",
    "        'Population': [8217,8412,9041,9396,9900,8840,8950,8990]\n",
    "        }\n",
    "\n",
    "df_98104 = DataFrame(data_4,columns= ['Year', 'Population'])\n",
    "\n",
    "print(df_98104)"
   ]
  },
  {
   "cell_type": "code",
   "execution_count": 4,
   "metadata": {},
   "outputs": [
    {
     "name": "stdout",
     "output_type": "stream",
     "text": [
      "Coefficients:  [[95.26190476]]\n",
      "Intercept:  [-182651.07142857]\n"
     ]
    }
   ],
   "source": [
    "import numpy as np\n",
    "from sklearn import linear_model\n",
    "regr = linear_model.LinearRegression()\n",
    "train_x = np.asanyarray(df_98104[['Year']])\n",
    "train_y = np.asanyarray(df_98104[['Population']])\n",
    "regr.fit (train_x, train_y)\n",
    "# The coefficients\n",
    "print ('Coefficients: ', regr.coef_)\n",
    "print ('Intercept: ',regr.intercept_)"
   ]
  },
  {
   "cell_type": "code",
   "execution_count": 6,
   "metadata": {},
   "outputs": [
    {
     "data": {
      "text/plain": [
       "Text(0, 0.5, 'Population')"
      ]
     },
     "execution_count": 6,
     "metadata": {},
     "output_type": "execute_result"
    },
    {
     "data": {
      "image/png": "[encoded data removed]",
      "text/plain": [
       "<Figure size 432x288 with 1 Axes>"
      ]
     },
     "metadata": {
      "needs_background": "light"
     },
     "output_type": "display_data"
    }
   ],
   "source": [
    "plt.scatter(df_98104.Year, df_98104.Population,  color='blue')\n",
    "plt.plot(train_x, regr.coef_[0][0]*train_x + regr.intercept_[0], '-r')\n",
    "plt.xlabel(\"Year\")\n",
    "plt.ylabel(\"Population\")"
   ]
  },
  {
   "cell_type": "markdown",
   "metadata": {},
   "source": [
    "# Future Population Prediction"
   ]
  },
  {
   "cell_type": "code",
   "execution_count": 7,
   "metadata": {},
   "outputs": [
    {
     "data": {
      "text/plain": [
       "array([[9396.92857143],\n",
       "       [9492.19047619],\n",
       "       [9587.45238095],\n",
       "       [9682.71428571],\n",
       "       [9777.97619048]])"
      ]
     },
     "execution_count": 7,
     "metadata": {},
     "output_type": "execute_result"
    }
   ],
   "source": [
    "#population prediction for 2016 ,2017 ,2018 ,2019,2020\n",
    "test_y_hat = regr.predict([[2016],[2017],[2018],[2019],[2020]])\n",
    "test_y_hat"
   ]
  },
  {
   "cell_type": "code",
   "execution_count": 8,
   "metadata": {},
   "outputs": [
    {
     "data": {
      "text/plain": [
       "array([[9396.92857143],\n",
       "       [9492.19047619],\n",
       "       [9587.45238095],\n",
       "       [9682.71428571],\n",
       "       [9777.97619048]])"
      ]
     },
     "execution_count": 8,
     "metadata": {},
     "output_type": "execute_result"
    }
   ],
   "source": [
    "df_98065_expected_population=test_y_hat\n",
    "df_98065_expected_population"
   ]
  },
  {
   "cell_type": "markdown",
   "metadata": {},
   "source": [
    "# New data frame for 98104 present and future population"
   ]
  },
  {
   "cell_type": "code",
   "execution_count": 9,
   "metadata": {},
   "outputs": [
    {
     "name": "stdout",
     "output_type": "stream",
     "text": [
      "    Year  Population\n",
      "0   2008   8217.0000\n",
      "1   2009   8412.0000\n",
      "2   2010   9041.0000\n",
      "3   2011   9396.0000\n",
      "4   2012   9900.0000\n",
      "5   2013   8840.0000\n",
      "6   2014   8950.0000\n",
      "7   2015   8990.0000\n",
      "8   2016   9396.9285\n",
      "9   2017   9492.1904\n",
      "10  2018   9587.4523\n",
      "11  2019   9682.7140\n",
      "12  2020   9777.9760\n"
     ]
    }
   ],
   "source": [
    "data_4 = {'Year': [2008,2009,2010,2011,2012,2013,2014,2015,2016,2017,2018,2019,2020],\n",
    "        'Population': [8217,8412,9041,9396,9900,8840,8950,8990,9396.9285,9492.1904,9587.4523,9682.714,9777.976]\n",
    "        }\n",
    "\n",
    "df_98104 = DataFrame(data_4,columns= ['Year', 'Population'])\n",
    "\n",
    "print(df_98104)"
   ]
  },
  {
   "cell_type": "code",
   "execution_count": null,
   "metadata": {},
   "outputs": [],
   "source": []
  }
 ],
 "metadata": {
  "kernelspec": {
   "display_name": "Python 3",
   "language": "python",
   "name": "python3"
  },
  "language_info": {
   "codemirror_mode": {
    "name": "ipython",
    "version": 3
   },
   "file_extension": ".py",
   "mimetype": "text/x-python",
   "name": "python",
   "nbconvert_exporter": "python",
   "pygments_lexer": "ipython3",
   "version": "3.7.3"
  }
 },
 "nbformat": 4,
 "nbformat_minor": 2
}

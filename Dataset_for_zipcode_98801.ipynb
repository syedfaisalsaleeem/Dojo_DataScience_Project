{
 "cells": [
  {
   "cell_type": "code",
   "execution_count": 13,
   "metadata": {},
   "outputs": [
    {
     "name": "stdout",
     "output_type": "stream",
     "text": [
      "    Year  Population\n",
      "0   2005       32794\n",
      "1   2006       32601\n",
      "2   2007       35400\n",
      "3   2008       34685\n",
      "4   2009       36575\n",
      "5   2010       37153\n",
      "6   2011       37397\n",
      "7   2012       37920\n",
      "8   2013       37640\n",
      "9   2014       38320\n",
      "10  2015       39110\n"
     ]
    }
   ],
   "source": [
    "#population data gathered for zip code 98801\n",
    "#using website:https://www.unitedstateszipcodes.org/98801/\n",
    "from pandas import DataFrame\n",
    "import matplotlib.pyplot as plt\n",
    "\n",
    "data_3 = {'Year': [2005,2006,2007,2008,2009,2010,2011,2012,2013,2014,2015],\n",
    "        'Population': [32794,32601,35400,34685,36575,37153,37397,37920,37640,38320,39110]\n",
    "        }\n",
    "\n",
    "df_98801 = DataFrame(data_3,columns= ['Year', 'Population'])\n",
    "\n",
    "print(df_98801)"
   ]
  },
  {
   "cell_type": "code",
   "execution_count": 14,
   "metadata": {},
   "outputs": [
    {
     "name": "stdout",
     "output_type": "stream",
     "text": [
      "Coefficients:  [[622.43575485]]\n",
      "Intercept:  [-1214769.05042279]\n"
     ]
    }
   ],
   "source": [
    "import numpy as np\n",
    "from sklearn import linear_model\n",
    "regr = linear_model.LinearRegression()\n",
    "train_x = np.asanyarray(df_98065[['Year']])\n",
    "train_y = np.asanyarray(df_98065[['Population']])\n",
    "regr.fit (train_x, train_y)\n",
    "# The coefficients\n",
    "print ('Coefficients: ', regr.coef_)\n",
    "print ('Intercept: ',regr.intercept_)"
   ]
  },
  {
   "cell_type": "code",
   "execution_count": 15,
   "metadata": {},
   "outputs": [
    {
     "data": {
      "text/plain": [
       "Text(0, 0.5, 'Population')"
      ]
     },
     "execution_count": 15,
     "metadata": {},
     "output_type": "execute_result"
    },
    {
     "data": {
      "image/png": "[encoded data removed]",
      "text/plain": [
       "<Figure size 432x288 with 1 Axes>"
      ]
     },
     "metadata": {
      "needs_background": "light"
     },
     "output_type": "display_data"
    }
   ],
   "source": [
    "plt.scatter(df_98065.Year, df_98065.Population,  color='blue')\n",
    "plt.plot(train_x, regr.coef_[0][0]*train_x + regr.intercept_[0], '-r')\n",
    "plt.xlabel(\"Year\")\n",
    "plt.ylabel(\"Population\")"
   ]
  },
  {
   "cell_type": "markdown",
   "metadata": {},
   "source": [
    "# Future Population Prediction"
   ]
  },
  {
   "cell_type": "code",
   "execution_count": 16,
   "metadata": {},
   "outputs": [
    {
     "data": {
      "text/plain": [
       "array([[40061.43136074],\n",
       "       [40683.86711559],\n",
       "       [41306.30287044],\n",
       "       [41928.73862529],\n",
       "       [42551.17438015]])"
      ]
     },
     "execution_count": 16,
     "metadata": {},
     "output_type": "execute_result"
    }
   ],
   "source": [
    "#population prediction for 2016 ,2017 ,2018 ,2019,2020\n",
    "test_y_hat = regr.predict([[2016],[2017],[2018],[2019],[2020]])\n",
    "test_y_hat"
   ]
  },
  {
   "cell_type": "code",
   "execution_count": 17,
   "metadata": {},
   "outputs": [
    {
     "data": {
      "text/plain": [
       "array([[40061.43136074],\n",
       "       [40683.86711559],\n",
       "       [41306.30287044],\n",
       "       [41928.73862529],\n",
       "       [42551.17438015]])"
      ]
     },
     "execution_count": 17,
     "metadata": {},
     "output_type": "execute_result"
    }
   ],
   "source": [
    "df_98065_expected_population=test_y_hat\n",
    "df_98065_expected_population"
   ]
  },
  {
   "cell_type": "markdown",
   "metadata": {},
   "source": [
    "# New data frame for 98801 present and future population"
   ]
  },
  {
   "cell_type": "code",
   "execution_count": 18,
   "metadata": {},
   "outputs": [
    {
     "name": "stdout",
     "output_type": "stream",
     "text": [
      "    Year  Population\n",
      "0   2005  32794.0000\n",
      "1   2006  32601.0000\n",
      "2   2007  35400.0000\n",
      "3   2008  34685.0000\n",
      "4   2009  36575.0000\n",
      "5   2010  37153.0000\n",
      "6   2011  37397.0000\n",
      "7   2012  37920.0000\n",
      "8   2013  37640.0000\n",
      "9   2014  38320.0000\n",
      "10  2015  39110.0000\n",
      "11  2016  40061.4363\n",
      "12  2017  40683.8270\n",
      "13  2018  41306.3090\n",
      "14  2019  41928.7454\n",
      "15  2020  42551.1818\n"
     ]
    }
   ],
   "source": [
    "\n",
    "data_3 = {'Year': [2005,2006,2007,2008,2009,2010,2011,2012,2013,2014,2015,2016,2017,2018,2019,2020],\n",
    "        'Population': [32794,32601,35400,34685,36575,37153,37397,37920,37640,38320,39110,40061.4363,40683.827,41306.309,41928.7454,42551.1818]\n",
    "        }\n",
    "\n",
    "df_98801 = DataFrame(data_3,columns= ['Year', 'Population'])\n",
    "\n",
    "print(df_98801)"
   ]
  },
  {
   "cell_type": "code",
   "execution_count": null,
   "metadata": {},
   "outputs": [],
   "source": []
  },
  {
   "cell_type": "code",
   "execution_count": null,
   "metadata": {},
   "outputs": [],
   "source": []
  }
 ],
 "metadata": {
  "kernelspec": {
   "display_name": "Python 3",
   "language": "python",
   "name": "python3"
  },
  "language_info": {
   "codemirror_mode": {
    "name": "ipython",
    "version": 3
   },
   "file_extension": ".py",
   "mimetype": "text/x-python",
   "name": "python",
   "nbconvert_exporter": "python",
   "pygments_lexer": "ipython3",
   "version": "3.7.3"
  }
 },
 "nbformat": 4,
 "nbformat_minor": 2
}

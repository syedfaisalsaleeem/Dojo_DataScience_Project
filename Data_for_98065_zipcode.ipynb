{
 "cells": [
  {
   "cell_type": "code",
   "execution_count": 4,
   "metadata": {},
   "outputs": [
    {
     "name": "stdout",
     "output_type": "stream",
     "text": [
      "    Year  Population\n",
      "0   2005        9922\n",
      "1   2006       10495\n",
      "2   2007       11692\n",
      "3   2008       11992\n",
      "4   2009       12398\n",
      "5   2010       12825\n",
      "6   2011       13282\n",
      "7   2012       13750\n",
      "8   2013       14380\n",
      "9   2014       14680\n",
      "10  2015       15250\n"
     ]
    }
   ],
   "source": [
    "#population data gathered for zip code 98065\n",
    "#using website:https://www.unitedstateszipcodes.org/98065/\n",
    "from pandas import DataFrame\n",
    "import matplotlib.pyplot as plt\n",
    "\n",
    "data_2 = {'Year': [2005,2006,2007,2008,2009,2010,2011,2012,2013,2014,2015],\n",
    "        'Population': [9922,10495,11692,11992,12398,12825,13282,13750,14380,14680,15250]\n",
    "        }\n",
    "\n",
    "df_98065 = DataFrame(data_2,columns= ['Year', 'Population'])\n",
    "\n",
    "print(df_98065)"
   ]
  },
  {
   "cell_type": "code",
   "execution_count": 5,
   "metadata": {},
   "outputs": [
    {
     "name": "stdout",
     "output_type": "stream",
     "text": [
      "Coefficients:  [[507.67272727]]\n",
      "Intercept:  [-1007634.36363636]\n"
     ]
    }
   ],
   "source": [
    "import numpy as np\n",
    "from sklearn import linear_model\n",
    "regr = linear_model.LinearRegression()\n",
    "train_x = np.asanyarray(df_98065[['Year']])\n",
    "train_y = np.asanyarray(df_98065[['Population']])\n",
    "regr.fit (train_x, train_y)\n",
    "# The coefficients\n",
    "print ('Coefficients: ', regr.coef_)\n",
    "print ('Intercept: ',regr.intercept_)"
   ]
  },
  {
   "cell_type": "code",
   "execution_count": 6,
   "metadata": {},
   "outputs": [
    {
     "data": {
      "text/plain": [
       "Text(0, 0.5, 'Population')"
      ]
     },
     "execution_count": 6,
     "metadata": {},
     "output_type": "execute_result"
    },
    {
     "data": {
      "image/png": "[encoded data removed]",
      "text/plain": [
       "<Figure size 432x288 with 1 Axes>"
      ]
     },
     "metadata": {
      "needs_background": "light"
     },
     "output_type": "display_data"
    }
   ],
   "source": [
    "plt.scatter(df_98065.Year, df_98065.Population,  color='blue')\n",
    "plt.plot(train_x, regr.coef_[0][0]*train_x + regr.intercept_[0], '-r')\n",
    "plt.xlabel(\"Year\")\n",
    "plt.ylabel(\"Population\")"
   ]
  },
  {
   "cell_type": "markdown",
   "metadata": {},
   "source": [
    "# Future Population Prediction"
   ]
  },
  {
   "cell_type": "code",
   "execution_count": 7,
   "metadata": {},
   "outputs": [
    {
     "data": {
      "text/plain": [
       "array([[15833.85454545],\n",
       "       [16341.52727273],\n",
       "       [16849.2       ],\n",
       "       [17356.87272727],\n",
       "       [17864.54545455]])"
      ]
     },
     "execution_count": 7,
     "metadata": {},
     "output_type": "execute_result"
    }
   ],
   "source": [
    "#population prediction for 2016 ,2017 ,2018 ,2019,2020\n",
    "test_y_hat = regr.predict([[2016],[2017],[2018],[2019],[2020]])\n",
    "test_y_hat"
   ]
  },
  {
   "cell_type": "code",
   "execution_count": 8,
   "metadata": {},
   "outputs": [
    {
     "data": {
      "text/plain": [
       "array([[15833.85454545],\n",
       "       [16341.52727273],\n",
       "       [16849.2       ],\n",
       "       [17356.87272727],\n",
       "       [17864.54545455]])"
      ]
     },
     "execution_count": 8,
     "metadata": {},
     "output_type": "execute_result"
    }
   ],
   "source": [
    "df_98065_expected_population=test_y_hat\n",
    "df_98065_expected_population"
   ]
  },
  {
   "cell_type": "markdown",
   "metadata": {},
   "source": [
    "# New data frame for 98065 present and future population\n"
   ]
  },
  {
   "cell_type": "code",
   "execution_count": 9,
   "metadata": {},
   "outputs": [
    {
     "name": "stdout",
     "output_type": "stream",
     "text": [
      "    Year   Population\n",
      "0   2005   9922.00000\n",
      "1   2006  10495.00000\n",
      "2   2007  11692.00000\n",
      "3   2008  11992.00000\n",
      "4   2009  12398.00000\n",
      "5   2010  12825.00000\n",
      "6   2011  13282.00000\n",
      "7   2012  13750.00000\n",
      "8   2013  14380.00000\n",
      "9   2014  14680.00000\n",
      "10  2015  15250.00000\n",
      "11  2016  15833.85450\n",
      "12  2017  16341.52727\n",
      "13  2018  16849.20000\n",
      "14  2019  17356.87270\n",
      "15  2020  17864.54540\n"
     ]
    }
   ],
   "source": [
    "\n",
    "data_2 = {'Year': [2005,2006,2007,2008,2009,2010,2011,2012,2013,2014,2015,2016,2017,2018,2019,2020],\n",
    "        'Population': [9922,10495,11692,11992,12398,12825,13282,13750,14380,14680,15250,15833.8545,16341.52727,16849.2,17356.8727,17864.5454]\n",
    "        }\n",
    "\n",
    "df_98065 = DataFrame(data_2,columns= ['Year', 'Population'])\n",
    "\n",
    "print(df_98065)"
   ]
  },
  {
   "cell_type": "code",
   "execution_count": null,
   "metadata": {},
   "outputs": [],
   "source": []
  }
 ],
 "metadata": {
  "kernelspec": {
   "display_name": "Python 3",
   "language": "python",
   "name": "python3"
  },
  "language_info": {
   "codemirror_mode": {
    "name": "ipython",
    "version": 3
   },
   "file_extension": ".py",
   "mimetype": "text/x-python",
   "name": "python",
   "nbconvert_exporter": "python",
   "pygments_lexer": "ipython3",
   "version": "3.7.3"
  }
 },
 "nbformat": 4,
 "nbformat_minor": 2
}

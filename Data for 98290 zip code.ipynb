{
 "cells": [
  {
   "cell_type": "code",
   "execution_count": 6,
   "metadata": {},
   "outputs": [
    {
     "name": "stdout",
     "output_type": "stream",
     "text": [
      "    Year  Population\n",
      "0   2005       29125\n",
      "1   2006       28527\n",
      "2   2007       30189\n",
      "3   2008       29049\n",
      "4   2009       29646\n",
      "5   2010       29766\n",
      "6   2011       30023\n",
      "7   2012       30450\n",
      "8   2013       30920\n",
      "9   2014       30820\n",
      "10  2015       31750\n"
     ]
    }
   ],
   "source": [
    "#population data gathered for zip code 98290\n",
    "#using website:https://www.unitedstateszipcodes.org/98290/\n",
    "from pandas import DataFrame\n",
    "import matplotlib.pyplot as plt\n",
    "\n",
    "data_1 = {'Year': [2005,2006,2007,2008,2009,2010,2011,2012,2013,2014,2015],\n",
    "        'Population': [29125,28527,30189,29049,29646,29766,30023,30450,30920,30820,31750]\n",
    "        }\n",
    "\n",
    "df_98290 = DataFrame(data_1,columns= ['Year', 'Population'])\n",
    "\n",
    "print(df_98290)"
   ]
  },
  {
   "cell_type": "code",
   "execution_count": 7,
   "metadata": {},
   "outputs": [
    {
     "name": "stdout",
     "output_type": "stream",
     "text": [
      "Coefficients:  [[251.53636364]]\n",
      "Intercept:  [-475564.]\n"
     ]
    }
   ],
   "source": [
    "import numpy as np\n",
    "from sklearn import linear_model\n",
    "regr = linear_model.LinearRegression()\n",
    "train_x = np.asanyarray(df_98290[['Year']])\n",
    "train_y = np.asanyarray(df_98290[['Population']])\n",
    "regr.fit (train_x, train_y)\n",
    "# The coefficients\n",
    "print ('Coefficients: ', regr.coef_)\n",
    "print ('Intercept: ',regr.intercept_)"
   ]
  },
  {
   "cell_type": "code",
   "execution_count": 8,
   "metadata": {},
   "outputs": [
    {
     "data": {
      "text/plain": [
       "Text(0, 0.5, 'Population')"
      ]
     },
     "execution_count": 8,
     "metadata": {},
     "output_type": "execute_result"
    },
    {
     "data": {
      "image/png": "[encoded data removed]",
      "text/plain": [
       "<Figure size 432x288 with 1 Axes>"
      ]
     },
     "metadata": {
      "needs_background": "light"
     },
     "output_type": "display_data"
    }
   ],
   "source": [
    "plt.scatter(df_98290.Year, df_98290.Population,  color='blue')\n",
    "plt.plot(train_x, regr.coef_[0][0]*train_x + regr.intercept_[0], '-r')\n",
    "plt.xlabel(\"Year\")\n",
    "plt.ylabel(\"Population\")"
   ]
  },
  {
   "cell_type": "markdown",
   "metadata": {},
   "source": [
    "# Future Population Prediction\n"
   ]
  },
  {
   "cell_type": "code",
   "execution_count": 9,
   "metadata": {},
   "outputs": [
    {
     "data": {
      "text/plain": [
       "array([[31533.30909091],\n",
       "       [31784.84545455],\n",
       "       [32036.38181818],\n",
       "       [32287.91818182],\n",
       "       [32539.45454545]])"
      ]
     },
     "execution_count": 9,
     "metadata": {},
     "output_type": "execute_result"
    }
   ],
   "source": [
    "#population prediction for 2016 ,2017 ,2018 ,2019,2020\n",
    "test_y_hat = regr.predict([[2016],[2017],[2018],[2019],[2020]])\n",
    "test_y_hat"
   ]
  },
  {
   "cell_type": "code",
   "execution_count": 10,
   "metadata": {},
   "outputs": [
    {
     "data": {
      "text/plain": [
       "array([[31533.30909091],\n",
       "       [31784.84545455],\n",
       "       [32036.38181818],\n",
       "       [32287.91818182],\n",
       "       [32539.45454545]])"
      ]
     },
     "execution_count": 10,
     "metadata": {},
     "output_type": "execute_result"
    }
   ],
   "source": [
    "df_98290_expected_population=test_y_hat\n",
    "df_98290_expected_population"
   ]
  },
  {
   "cell_type": "markdown",
   "metadata": {},
   "source": [
    "# New data frame for 98290 present and future population"
   ]
  },
  {
   "cell_type": "code",
   "execution_count": 11,
   "metadata": {},
   "outputs": [
    {
     "name": "stdout",
     "output_type": "stream",
     "text": [
      "    Year  Population\n",
      "0   2005  29125.0000\n",
      "1   2006  28527.0000\n",
      "2   2007  30189.0000\n",
      "3   2008  29049.0000\n",
      "4   2009  29646.0000\n",
      "5   2010  29766.0000\n",
      "6   2011  30023.0000\n",
      "7   2012  30450.0000\n",
      "8   2013  30920.0000\n",
      "9   2014  30820.0000\n",
      "10  2015  31750.0000\n",
      "11  2016  31533.3090\n",
      "12  2017  31784.8450\n",
      "13  2018  32036.3818\n",
      "14  2019  32287.9180\n",
      "15  2020  32539.4545\n"
     ]
    }
   ],
   "source": [
    "data_1 = {'Year': [2005,2006,2007,2008,2009,2010,2011,2012,2013,2014,2015,2016,2017,2018,2019,2020],\n",
    "        'Population': [29125,28527,30189,29049,29646,29766,30023,30450,30920,30820,31750,31533.309,31784.845,32036.3818,32287.918,32539.4545]\n",
    "        }\n",
    "\n",
    "df_98290 = DataFrame(data_1,columns= ['Year', 'Population'])\n",
    "\n",
    "print(df_98290)"
   ]
  },
  {
   "cell_type": "code",
   "execution_count": null,
   "metadata": {},
   "outputs": [],
   "source": []
  }
 ],
 "metadata": {
  "kernelspec": {
   "display_name": "Python 3",
   "language": "python",
   "name": "python3"
  },
  "language_info": {
   "codemirror_mode": {
    "name": "ipython",
    "version": 3
   },
   "file_extension": ".py",
   "mimetype": "text/x-python",
   "name": "python",
   "nbconvert_exporter": "python",
   "pygments_lexer": "ipython3",
   "version": "3.7.3"
  }
 },
 "nbformat": 4,
 "nbformat_minor": 2
}
